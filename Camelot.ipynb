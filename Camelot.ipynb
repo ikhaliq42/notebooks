{
 "cells": [
  {
   "cell_type": "code",
   "execution_count": 1,
   "metadata": {},
   "outputs": [],
   "source": [
    "import warnings\n",
    "warnings.filterwarnings(\"ignore\", message=\"numpy.dtype size changed\")"
   ]
  },
  {
   "cell_type": "code",
   "execution_count": 2,
   "metadata": {},
   "outputs": [],
   "source": [
    "import camelot\n",
    "import os\n",
    "import sys\n",
    "import re"
   ]
  },
  {
   "cell_type": "code",
   "execution_count": 13,
   "metadata": {},
   "outputs": [],
   "source": [
    "def export_all_documents_to_csv(inputfolder,outputfolder, stop_after=None):\n",
    "    pattern = re.compile(\".*\\.pdf\")\n",
    "    documents = {}\n",
    "    filenames = sorted([f for f in os.listdir(inputfolder) if pattern.match(f)])\n",
    "    n=0\n",
    "    for filename in filenames:\n",
    "        print(filename)\n",
    "        name = filename.split('.')[-2]\n",
    "        export_pdf_to_csv(os.path.join(inputfolder,filename),os.path.join(outputfolder,name),name)\n",
    "        n += 1\n",
    "        if stop_after is not None:\n",
    "            if n >= stop_after: break\n",
    "    return documents"
   ]
  },
  {
   "cell_type": "code",
   "execution_count": 9,
   "metadata": {},
   "outputs": [],
   "source": [
    "def export_pdf_to_csv(inputpath,outputfolder,name):\n",
    "    tables = camelot.read_pdf(inputpath, pages='1-end')\n",
    "    if not os.path.exists(outputfolder): \n",
    "        os.mkdir(outputfolder)\n",
    "    tables.export(os.path.join(outputfolder,name+'.csv'), f='csv', compress=False)"
   ]
  },
  {
   "cell_type": "markdown",
   "metadata": {},
   "source": [
    "### Scratch pad"
   ]
  },
  {
   "cell_type": "code",
   "execution_count": 10,
   "metadata": {},
   "outputs": [],
   "source": [
    "inputfolder='/home/imran/work/datasets/icdar2013-competition-dataset-with-gt/competition-dataset-eu/'"
   ]
  },
  {
   "cell_type": "code",
   "execution_count": 11,
   "metadata": {},
   "outputs": [],
   "source": [
    "outputfolder='/home/imran/work/datasets/icdar2013-competition-dataset-with-gt/competition-dataset-eu-camelot/'"
   ]
  },
  {
   "cell_type": "code",
   "execution_count": 14,
   "metadata": {},
   "outputs": [
    {
     "name": "stdout",
     "output_type": "stream",
     "text": [
      "eu-001.pdf\n",
      "eu-002.pdf\n"
     ]
    },
    {
     "data": {
      "text/plain": [
       "{}"
      ]
     },
     "execution_count": 14,
     "metadata": {},
     "output_type": "execute_result"
    }
   ],
   "source": [
    "export_all_documents_to_csv(inputfolder,outputfolder,stop_after=2)"
   ]
  },
  {
   "cell_type": "code",
   "execution_count": null,
   "metadata": {},
   "outputs": [],
   "source": []
  }
 ],
 "metadata": {
  "kernelspec": {
   "display_name": "Python 3",
   "language": "python",
   "name": "python3"
  },
  "language_info": {
   "codemirror_mode": {
    "name": "ipython",
    "version": 3
   },
   "file_extension": ".py",
   "mimetype": "text/x-python",
   "name": "python",
   "nbconvert_exporter": "python",
   "pygments_lexer": "ipython3",
   "version": "3.6.7"
  }
 },
 "nbformat": 4,
 "nbformat_minor": 2
}
