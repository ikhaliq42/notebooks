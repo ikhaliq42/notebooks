{
 "cells": [
  {
   "cell_type": "code",
   "execution_count": 17,
   "metadata": {},
   "outputs": [],
   "source": [
    "import warnings\n",
    "warnings.filterwarnings(\"ignore\", message=\"numpy.dtype size changed\")"
   ]
  },
  {
   "cell_type": "code",
   "execution_count": 18,
   "metadata": {},
   "outputs": [],
   "source": [
    "import sys\n",
    "import os\n",
    "import re\n",
    "import pandas as pd\n",
    "from bs4 import BeautifulSoup"
   ]
  },
  {
   "cell_type": "markdown",
   "metadata": {},
   "source": [
    "### Load ground truth data"
   ]
  },
  {
   "cell_type": "code",
   "execution_count": 2,
   "metadata": {},
   "outputs": [],
   "source": [
    "def get_xml_tables(path,filename):\n",
    "    \n",
    "    with open(os.path.join(path,filename)) as filepath:\n",
    "        \n",
    "        # load xml data\n",
    "        name = filename.split('.')[-2]\n",
    "        xml = BeautifulSoup(filepath,'lxml')\n",
    "        \n",
    "        # remove unneccessary tags\n",
    "        for tag in xml.find_all('instruction'):\n",
    "            tag.decompose()\n",
    "        for tag in xml.find_all('bounding-box'):\n",
    "            tag.decompose()\n",
    "            \n",
    "        #return all tables as a list\n",
    "        return xml.find_all('table')"
   ]
  },
  {
   "cell_type": "code",
   "execution_count": 3,
   "metadata": {},
   "outputs": [],
   "source": [
    "def get_all_documents_xml(datapath):\n",
    "    pattern = re.compile(\".*-str\\.xml\")\n",
    "    documents = {}\n",
    "    filenames = [f for f in os.listdir(datapath) if pattern.match(f)]\n",
    "    for filename in filenames:\n",
    "        name = filename.split('.')[-2]\n",
    "        documents[name] = get_xml_tables(datapath,filename)\n",
    "    return documents"
   ]
  },
  {
   "cell_type": "markdown",
   "metadata": {},
   "source": [
    "### Transform data"
   ]
  },
  {
   "cell_type": "code",
   "execution_count": 4,
   "metadata": {},
   "outputs": [],
   "source": [
    "def get_cell_position(cell):\n",
    "    start_col = int(cell.attrs['start-col']) if cell.has_attr('start-col') else 0\n",
    "    start_row = int(cell.attrs['start-row']) if cell.has_attr('start-row') else 0\n",
    "    end_col = int(cell.attrs['end-col']) if cell.has_attr('end-col') else start_col\n",
    "    end_row = int(cell.attrs['end-row']) if cell.has_attr('end-row') else start_row\n",
    "    return start_col,start_row,end_col,end_row"
   ]
  },
  {
   "cell_type": "code",
   "execution_count": 5,
   "metadata": {},
   "outputs": [],
   "source": [
    "def get_row_and_columns_count(table):\n",
    "    cells = table.find_all('cell')\n",
    "    max_cols = 0\n",
    "    max_rows = 0\n",
    "    for cell in cells:\n",
    "        start_col,start_row,end_col,end_row = get_cell_position(cell)\n",
    "        max_cols = max(max_cols, start_col, end_col)\n",
    "        max_rows = max(max_rows, start_row, end_row)\n",
    "    return max_rows,max_cols"
   ]
  },
  {
   "cell_type": "code",
   "execution_count": 44,
   "metadata": {},
   "outputs": [],
   "source": [
    "def lookup_cell(table,row,column,max_rows,max_cols, type='simple'):\n",
    "    if type == 'simple':\n",
    "        return table.find('cell', attrs={'start-col':str(column),'start-row':str(row)})\n",
    "    elif type == 'spanning':\n",
    "        cells = table.find_all('cell')\n",
    "        for cell in cells:\n",
    "            start_col,start_row,end_col,end_row = get_cell_position(cell)\n",
    "            if column >= start_col and column <= end_col and row >= start_row and row <= end_row:\n",
    "                return cell\n",
    "    else:\n",
    "        return None"
   ]
  },
  {
   "cell_type": "code",
   "execution_count": 38,
   "metadata": {},
   "outputs": [],
   "source": [
    "def xml_to_list(table):\n",
    "    max_rows, max_cols = get_row_and_columns_count(table)\n",
    "    output = []\n",
    "    for r in range(max_rows+1):\n",
    "        row = []\n",
    "        for c in range(max_cols+1):\n",
    "            cell = lookup_cell(table,r,c,max_rows,max_cols,type='simple')\n",
    "            entry = cell.content.string if cell is not None else ''\n",
    "            row.append(entry)\n",
    "        output.append(row)\n",
    "    return output"
   ]
  },
  {
   "cell_type": "code",
   "execution_count": 14,
   "metadata": {},
   "outputs": [],
   "source": [
    "def batch_xml_to_list(tables):\n",
    "    output = []\n",
    "    for tbl in tables:\n",
    "        output.append(xml_to_list(tbl))\n",
    "    return output"
   ]
  },
  {
   "cell_type": "code",
   "execution_count": 9,
   "metadata": {},
   "outputs": [],
   "source": [
    "def transform_all(documents_xml):\n",
    "    documents = {}\n",
    "    for key in documents_xml.keys():\n",
    "        documents[key] = batch_xml_to_list(documents_xml[key])\n",
    "    return documents"
   ]
  },
  {
   "cell_type": "markdown",
   "metadata": {},
   "source": [
    "### Output transformed data"
   ]
  },
  {
   "cell_type": "code",
   "execution_count": 58,
   "metadata": {},
   "outputs": [],
   "source": [
    "def output_as_csv(documents, output_dir):\n",
    "    for k in documents.keys():        \n",
    "        n_tables = len(documents[k])\n",
    "        for n in range(n_tables):\n",
    "            df = pd.DataFrame(documents[k][n])\n",
    "            folder = os.path.join(output_dir,k)\n",
    "            filename = 'table' + str(n) + '.csv'\n",
    "            filepath = os.path.join(folder,filename)\n",
    "            if not os.path.exists(folder):\n",
    "                os.mkdir(folder)\n",
    "            df.to_csv(filepath,index=False,header=False)"
   ]
  },
  {
   "cell_type": "markdown",
   "metadata": {},
   "source": [
    "### Scratch pad.."
   ]
  },
  {
   "cell_type": "code",
   "execution_count": 10,
   "metadata": {},
   "outputs": [],
   "source": [
    "datapath = '/home/imran/work/datasets/icdar2013-competition-dataset-with-gt/competition-dataset-eu/'"
   ]
  },
  {
   "cell_type": "code",
   "execution_count": 45,
   "metadata": {},
   "outputs": [],
   "source": [
    "documents = transform_all(get_all_documents_xml(datapath))"
   ]
  },
  {
   "cell_type": "code",
   "execution_count": 46,
   "metadata": {},
   "outputs": [],
   "source": [
    "df = pd.DataFrame(documents['eu-001-str'][0])"
   ]
  },
  {
   "cell_type": "code",
   "execution_count": 51,
   "metadata": {
    "scrolled": true
   },
   "outputs": [
    {
     "data": {
      "text/html": [
       "<div>\n",
       "<style scoped>\n",
       "    .dataframe tbody tr th:only-of-type {\n",
       "        vertical-align: middle;\n",
       "    }\n",
       "\n",
       "    .dataframe tbody tr th {\n",
       "        vertical-align: top;\n",
       "    }\n",
       "\n",
       "    .dataframe thead th {\n",
       "        text-align: right;\n",
       "    }\n",
       "</style>\n",
       "<table border=\"1\" class=\"dataframe\">\n",
       "  <thead>\n",
       "    <tr style=\"text-align: right;\">\n",
       "      <th></th>\n",
       "      <th>0</th>\n",
       "      <th>1</th>\n",
       "      <th>2</th>\n",
       "      <th>3</th>\n",
       "    </tr>\n",
       "  </thead>\n",
       "  <tbody>\n",
       "    <tr>\n",
       "      <th>0</th>\n",
       "      <td></td>\n",
       "      <td>THRESHOLD FOR RELEASES</td>\n",
       "      <td></td>\n",
       "      <td></td>\n",
       "    </tr>\n",
       "    <tr>\n",
       "      <th>1</th>\n",
       "      <td></td>\n",
       "      <td>to air\n",
       "kg/year</td>\n",
       "      <td>to water\n",
       "kg/year</td>\n",
       "      <td>to land\n",
       "kg/year</td>\n",
       "    </tr>\n",
       "    <tr>\n",
       "      <th>2</th>\n",
       "      <td>Carbon dioxide (CO2)</td>\n",
       "      <td>100 million</td>\n",
       "      <td>-</td>\n",
       "      <td>-</td>\n",
       "    </tr>\n",
       "    <tr>\n",
       "      <th>3</th>\n",
       "      <td>Hydro-fluorocarbons (HFCs)</td>\n",
       "      <td>100</td>\n",
       "      <td>-</td>\n",
       "      <td>-</td>\n",
       "    </tr>\n",
       "    <tr>\n",
       "      <th>4</th>\n",
       "      <td>Methane (CH4)</td>\n",
       "      <td>100 000</td>\n",
       "      <td>-</td>\n",
       "      <td>-</td>\n",
       "    </tr>\n",
       "    <tr>\n",
       "      <th>5</th>\n",
       "      <td>Nitrous oxide (N2O)</td>\n",
       "      <td>10 000</td>\n",
       "      <td>-</td>\n",
       "      <td>-</td>\n",
       "    </tr>\n",
       "    <tr>\n",
       "      <th>6</th>\n",
       "      <td>Perfluorocarbons (PFCs)</td>\n",
       "      <td>100</td>\n",
       "      <td>-</td>\n",
       "      <td>-</td>\n",
       "    </tr>\n",
       "    <tr>\n",
       "      <th>7</th>\n",
       "      <td>Sulphur hexafluoride (SF6)</td>\n",
       "      <td>50</td>\n",
       "      <td>-</td>\n",
       "      <td>-</td>\n",
       "    </tr>\n",
       "  </tbody>\n",
       "</table>\n",
       "</div>"
      ],
      "text/plain": [
       "                            0                       1                 2  \\\n",
       "0                              THRESHOLD FOR RELEASES                     \n",
       "1                                      to air\n",
       "kg/year  to water\n",
       "kg/year   \n",
       "2        Carbon dioxide (CO2)             100 million                 -   \n",
       "3  Hydro-fluorocarbons (HFCs)                     100                 -   \n",
       "4               Methane (CH4)                 100 000                 -   \n",
       "5         Nitrous oxide (N2O)                  10 000                 -   \n",
       "6     Perfluorocarbons (PFCs)                     100                 -   \n",
       "7  Sulphur hexafluoride (SF6)                      50                 -   \n",
       "\n",
       "                 3  \n",
       "0                   \n",
       "1  to land\n",
       "kg/year  \n",
       "2                -  \n",
       "3                -  \n",
       "4                -  \n",
       "5                -  \n",
       "6                -  \n",
       "7                -  "
      ]
     },
     "execution_count": 51,
     "metadata": {},
     "output_type": "execute_result"
    }
   ],
   "source": [
    "df"
   ]
  },
  {
   "cell_type": "code",
   "execution_count": 59,
   "metadata": {},
   "outputs": [],
   "source": [
    "output_as_csv(documents,datapath)"
   ]
  },
  {
   "cell_type": "code",
   "execution_count": null,
   "metadata": {},
   "outputs": [],
   "source": []
  }
 ],
 "metadata": {
  "kernelspec": {
   "display_name": "Python 3",
   "language": "python",
   "name": "python3"
  },
  "language_info": {
   "codemirror_mode": {
    "name": "ipython",
    "version": 3
   },
   "file_extension": ".py",
   "mimetype": "text/x-python",
   "name": "python",
   "nbconvert_exporter": "python",
   "pygments_lexer": "ipython3",
   "version": "3.6.7"
  }
 },
 "nbformat": 4,
 "nbformat_minor": 2
}
